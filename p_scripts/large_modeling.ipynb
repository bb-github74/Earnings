{
 "cells": [
  {
   "cell_type": "markdown",
   "metadata": {},
   "source": [
    "## Large Modeling featuring topic modeling, vader sentiment, closing price, and  Loughran-McDonald sentimnent"
   ]
  },
  {
   "cell_type": "code",
   "execution_count": 1,
   "metadata": {},
   "outputs": [],
   "source": [
    "# Author: bbaasan\n",
    "# File: large_modeling.ipynb\n",
    "# Created: 2023-09-18\n",
    "# Email: bbaasan@gmu.edu\n",
    "# Purpose: Final modeling with various features"
   ]
  },
  {
   "cell_type": "code",
   "execution_count": 1,
   "metadata": {},
   "outputs": [],
   "source": [
    "import pandas as pd"
   ]
  },
  {
   "cell_type": "markdown",
   "metadata": {},
   "source": [
    "## Valence Aware Diotionary and sEntiment Reasoners (VADER)  \n",
    "is a lexicon and rule-based sentiment analysis tool that is *purposefully tuned to sentiment ana;ysis expressed in social media*. In the context of VADER, 'valence' refers to the emotional polarity or sentiment associated with a piece of text. Polarity refers to overall emotional tone or sentiment expressed in the text. \n",
    "Source: [github](https://github.com/cjhutto/vaderSentiment) and [python library](https://pypi.org/project/vaderSentiment/) and [original paper](https://ojs.aaai.org/index.php/ICWSM/article/view/14550)"
   ]
  },
  {
   "cell_type": "code",
   "execution_count": 2,
   "metadata": {},
   "outputs": [],
   "source": [
    "# vader scores\n",
    "vader = pd.read_pickle('../data/SentimentVader/vader_sentiment.pkl')"
   ]
  },
  {
   "cell_type": "markdown",
   "metadata": {},
   "source": [
    "## Loughran-McDonald Sentiment  \n",
    "\n",
    "is a baseline dictionary and is oriented towards common words. It is extended to include words appearing in 10-K documents and earnings calls that are not found in the original 2of12inf word list by examining tokens from all 10-K type filings for the full EDGAR 10-K archive and earnings call from CAPIQ. The dictionary reports counts, proportion of total, average proportion per document, standard deviation of proportion per document, document count, and seven category identifiers, number of syllables and source of each word [Master Dictionary](https://sraf.nd.edu/loughranmcdonald-master-dictionary/)"
   ]
  },
  {
   "cell_type": "code",
   "execution_count": 3,
   "metadata": {},
   "outputs": [],
   "source": [
    "# loughran-mcdonald sentiment scores\n",
    "lm_sent = pd.read_pickle('../data/LoughranMcDonald/earnings_sentiment.pkl')"
   ]
  },
  {
   "cell_type": "code",
   "execution_count": 4,
   "metadata": {},
   "outputs": [],
   "source": [
    "# data\n",
    "aggregate = pd.read_pickle('../data/Aggregated.pkl')#[['close', 'sma50_close', 'sma200_close','target']]\n",
    "aggregate = aggregate.reset_index(drop=True)"
   ]
  },
  {
   "cell_type": "code",
   "execution_count": 5,
   "metadata": {},
   "outputs": [],
   "source": [
    "# topic modeling\n",
    "large_topics = pd.read_pickle('../data/large_topics_proportions_df.pkl')"
   ]
  },
  {
   "cell_type": "code",
   "execution_count": 6,
   "metadata": {},
   "outputs": [],
   "source": [
    "# matrix table\n",
    "big_table = pd.concat([aggregate,large_topics,lm_sent,vader],axis=1)\n"
   ]
  },
  {
   "cell_type": "code",
   "execution_count": 8,
   "metadata": {},
   "outputs": [],
   "source": [
    "X = big_table.drop('target', axis=1)\n",
    "labels = big_table['target']"
   ]
  },
  {
   "cell_type": "code",
   "execution_count": 9,
   "metadata": {},
   "outputs": [
    {
     "data": {
      "text/html": [
       "<div>\n",
       "<style scoped>\n",
       "    .dataframe tbody tr th:only-of-type {\n",
       "        vertical-align: middle;\n",
       "    }\n",
       "\n",
       "    .dataframe tbody tr th {\n",
       "        vertical-align: top;\n",
       "    }\n",
       "\n",
       "    .dataframe thead th {\n",
       "        text-align: right;\n",
       "    }\n",
       "</style>\n",
       "<table border=\"1\" class=\"dataframe\">\n",
       "  <thead>\n",
       "    <tr style=\"text-align: right;\">\n",
       "      <th></th>\n",
       "      <th>close</th>\n",
       "      <th>sma50_close</th>\n",
       "      <th>sma200_close</th>\n",
       "      <th>Topic_1</th>\n",
       "      <th>Topic_2</th>\n",
       "      <th>Topic_3</th>\n",
       "      <th>Topic_4</th>\n",
       "      <th>Topic_5</th>\n",
       "      <th>Topic_6</th>\n",
       "      <th>Topic_7</th>\n",
       "      <th>Topic_8</th>\n",
       "      <th>Topic_9</th>\n",
       "      <th>Topic_10</th>\n",
       "      <th>LM_Positive</th>\n",
       "      <th>LM_Negative</th>\n",
       "      <th>LM_Uncertainty</th>\n",
       "      <th>neg</th>\n",
       "      <th>neu</th>\n",
       "      <th>pos</th>\n",
       "    </tr>\n",
       "  </thead>\n",
       "  <tbody>\n",
       "    <tr>\n",
       "      <th>0</th>\n",
       "      <td>1.100000</td>\n",
       "      <td>1.154400</td>\n",
       "      <td>1.672250</td>\n",
       "      <td>0.000296</td>\n",
       "      <td>0.425715</td>\n",
       "      <td>0.000296</td>\n",
       "      <td>0.218205</td>\n",
       "      <td>0.000296</td>\n",
       "      <td>0.000296</td>\n",
       "      <td>0.000296</td>\n",
       "      <td>0.000296</td>\n",
       "      <td>0.354008</td>\n",
       "      <td>0.000296</td>\n",
       "      <td>20</td>\n",
       "      <td>20</td>\n",
       "      <td>4</td>\n",
       "      <td>0.040</td>\n",
       "      <td>0.813</td>\n",
       "      <td>0.146</td>\n",
       "    </tr>\n",
       "    <tr>\n",
       "      <th>1</th>\n",
       "      <td>16.000000</td>\n",
       "      <td>14.278522</td>\n",
       "      <td>11.600599</td>\n",
       "      <td>0.167129</td>\n",
       "      <td>0.000160</td>\n",
       "      <td>0.000161</td>\n",
       "      <td>0.136694</td>\n",
       "      <td>0.000160</td>\n",
       "      <td>0.000160</td>\n",
       "      <td>0.000160</td>\n",
       "      <td>0.000160</td>\n",
       "      <td>0.690556</td>\n",
       "      <td>0.004658</td>\n",
       "      <td>53</td>\n",
       "      <td>35</td>\n",
       "      <td>13</td>\n",
       "      <td>0.021</td>\n",
       "      <td>0.800</td>\n",
       "      <td>0.179</td>\n",
       "    </tr>\n",
       "    <tr>\n",
       "      <th>2</th>\n",
       "      <td>-28.342836</td>\n",
       "      <td>-26.778371</td>\n",
       "      <td>-25.616853</td>\n",
       "      <td>0.350938</td>\n",
       "      <td>0.000120</td>\n",
       "      <td>0.000120</td>\n",
       "      <td>0.183133</td>\n",
       "      <td>0.000120</td>\n",
       "      <td>0.000120</td>\n",
       "      <td>0.000120</td>\n",
       "      <td>0.000120</td>\n",
       "      <td>0.030443</td>\n",
       "      <td>0.434765</td>\n",
       "      <td>56</td>\n",
       "      <td>29</td>\n",
       "      <td>19</td>\n",
       "      <td>0.011</td>\n",
       "      <td>0.802</td>\n",
       "      <td>0.186</td>\n",
       "    </tr>\n",
       "    <tr>\n",
       "      <th>3</th>\n",
       "      <td>10.830000</td>\n",
       "      <td>10.796200</td>\n",
       "      <td>9.320700</td>\n",
       "      <td>0.754833</td>\n",
       "      <td>0.000149</td>\n",
       "      <td>0.000149</td>\n",
       "      <td>0.000149</td>\n",
       "      <td>0.000149</td>\n",
       "      <td>0.003629</td>\n",
       "      <td>0.029885</td>\n",
       "      <td>0.201745</td>\n",
       "      <td>0.009163</td>\n",
       "      <td>0.000149</td>\n",
       "      <td>28</td>\n",
       "      <td>95</td>\n",
       "      <td>6</td>\n",
       "      <td>0.027</td>\n",
       "      <td>0.832</td>\n",
       "      <td>0.141</td>\n",
       "    </tr>\n",
       "    <tr>\n",
       "      <th>4</th>\n",
       "      <td>38.812000</td>\n",
       "      <td>40.800520</td>\n",
       "      <td>45.000936</td>\n",
       "      <td>0.696909</td>\n",
       "      <td>0.000095</td>\n",
       "      <td>0.000095</td>\n",
       "      <td>0.000095</td>\n",
       "      <td>0.000095</td>\n",
       "      <td>0.270060</td>\n",
       "      <td>0.012861</td>\n",
       "      <td>0.019600</td>\n",
       "      <td>0.000095</td>\n",
       "      <td>0.000095</td>\n",
       "      <td>56</td>\n",
       "      <td>61</td>\n",
       "      <td>42</td>\n",
       "      <td>0.025</td>\n",
       "      <td>0.828</td>\n",
       "      <td>0.148</td>\n",
       "    </tr>\n",
       "    <tr>\n",
       "      <th>...</th>\n",
       "      <td>...</td>\n",
       "      <td>...</td>\n",
       "      <td>...</td>\n",
       "      <td>...</td>\n",
       "      <td>...</td>\n",
       "      <td>...</td>\n",
       "      <td>...</td>\n",
       "      <td>...</td>\n",
       "      <td>...</td>\n",
       "      <td>...</td>\n",
       "      <td>...</td>\n",
       "      <td>...</td>\n",
       "      <td>...</td>\n",
       "      <td>...</td>\n",
       "      <td>...</td>\n",
       "      <td>...</td>\n",
       "      <td>...</td>\n",
       "      <td>...</td>\n",
       "      <td>...</td>\n",
       "    </tr>\n",
       "    <tr>\n",
       "      <th>136517</th>\n",
       "      <td>51.318615</td>\n",
       "      <td>57.036444</td>\n",
       "      <td>58.085233</td>\n",
       "      <td>0.000108</td>\n",
       "      <td>0.000108</td>\n",
       "      <td>0.000108</td>\n",
       "      <td>0.000108</td>\n",
       "      <td>0.000108</td>\n",
       "      <td>0.134308</td>\n",
       "      <td>0.000108</td>\n",
       "      <td>0.031809</td>\n",
       "      <td>0.822942</td>\n",
       "      <td>0.010296</td>\n",
       "      <td>87</td>\n",
       "      <td>52</td>\n",
       "      <td>23</td>\n",
       "      <td>0.023</td>\n",
       "      <td>0.832</td>\n",
       "      <td>0.145</td>\n",
       "    </tr>\n",
       "    <tr>\n",
       "      <th>136518</th>\n",
       "      <td>61.500000</td>\n",
       "      <td>63.793400</td>\n",
       "      <td>69.368850</td>\n",
       "      <td>0.257853</td>\n",
       "      <td>0.000096</td>\n",
       "      <td>0.000096</td>\n",
       "      <td>0.015348</td>\n",
       "      <td>0.000096</td>\n",
       "      <td>0.600495</td>\n",
       "      <td>0.057191</td>\n",
       "      <td>0.000096</td>\n",
       "      <td>0.000096</td>\n",
       "      <td>0.068632</td>\n",
       "      <td>60</td>\n",
       "      <td>60</td>\n",
       "      <td>26</td>\n",
       "      <td>0.026</td>\n",
       "      <td>0.791</td>\n",
       "      <td>0.184</td>\n",
       "    </tr>\n",
       "    <tr>\n",
       "      <th>136519</th>\n",
       "      <td>235.513428</td>\n",
       "      <td>238.028843</td>\n",
       "      <td>237.354383</td>\n",
       "      <td>0.000090</td>\n",
       "      <td>0.526406</td>\n",
       "      <td>0.000090</td>\n",
       "      <td>0.000090</td>\n",
       "      <td>0.006015</td>\n",
       "      <td>0.000090</td>\n",
       "      <td>0.000090</td>\n",
       "      <td>0.000090</td>\n",
       "      <td>0.417274</td>\n",
       "      <td>0.049763</td>\n",
       "      <td>51</td>\n",
       "      <td>34</td>\n",
       "      <td>44</td>\n",
       "      <td>0.027</td>\n",
       "      <td>0.823</td>\n",
       "      <td>0.150</td>\n",
       "    </tr>\n",
       "    <tr>\n",
       "      <th>136520</th>\n",
       "      <td>48.833820</td>\n",
       "      <td>47.849117</td>\n",
       "      <td>43.219273</td>\n",
       "      <td>0.138489</td>\n",
       "      <td>0.000099</td>\n",
       "      <td>0.020017</td>\n",
       "      <td>0.284387</td>\n",
       "      <td>0.000099</td>\n",
       "      <td>0.000099</td>\n",
       "      <td>0.011366</td>\n",
       "      <td>0.021472</td>\n",
       "      <td>0.030229</td>\n",
       "      <td>0.493743</td>\n",
       "      <td>35</td>\n",
       "      <td>46</td>\n",
       "      <td>15</td>\n",
       "      <td>0.021</td>\n",
       "      <td>0.824</td>\n",
       "      <td>0.154</td>\n",
       "    </tr>\n",
       "    <tr>\n",
       "      <th>136521</th>\n",
       "      <td>79.639999</td>\n",
       "      <td>96.209599</td>\n",
       "      <td>99.166050</td>\n",
       "      <td>0.000141</td>\n",
       "      <td>0.025427</td>\n",
       "      <td>0.389539</td>\n",
       "      <td>0.168279</td>\n",
       "      <td>0.000141</td>\n",
       "      <td>0.000141</td>\n",
       "      <td>0.035734</td>\n",
       "      <td>0.186052</td>\n",
       "      <td>0.000141</td>\n",
       "      <td>0.194404</td>\n",
       "      <td>32</td>\n",
       "      <td>30</td>\n",
       "      <td>22</td>\n",
       "      <td>0.030</td>\n",
       "      <td>0.821</td>\n",
       "      <td>0.149</td>\n",
       "    </tr>\n",
       "  </tbody>\n",
       "</table>\n",
       "<p>136522 rows × 19 columns</p>\n",
       "</div>"
      ],
      "text/plain": [
       "             close  sma50_close  sma200_close   Topic_1   Topic_2   Topic_3  \\\n",
       "0         1.100000     1.154400      1.672250  0.000296  0.425715  0.000296   \n",
       "1        16.000000    14.278522     11.600599  0.167129  0.000160  0.000161   \n",
       "2       -28.342836   -26.778371    -25.616853  0.350938  0.000120  0.000120   \n",
       "3        10.830000    10.796200      9.320700  0.754833  0.000149  0.000149   \n",
       "4        38.812000    40.800520     45.000936  0.696909  0.000095  0.000095   \n",
       "...            ...          ...           ...       ...       ...       ...   \n",
       "136517   51.318615    57.036444     58.085233  0.000108  0.000108  0.000108   \n",
       "136518   61.500000    63.793400     69.368850  0.257853  0.000096  0.000096   \n",
       "136519  235.513428   238.028843    237.354383  0.000090  0.526406  0.000090   \n",
       "136520   48.833820    47.849117     43.219273  0.138489  0.000099  0.020017   \n",
       "136521   79.639999    96.209599     99.166050  0.000141  0.025427  0.389539   \n",
       "\n",
       "         Topic_4   Topic_5   Topic_6   Topic_7   Topic_8   Topic_9  Topic_10  \\\n",
       "0       0.218205  0.000296  0.000296  0.000296  0.000296  0.354008  0.000296   \n",
       "1       0.136694  0.000160  0.000160  0.000160  0.000160  0.690556  0.004658   \n",
       "2       0.183133  0.000120  0.000120  0.000120  0.000120  0.030443  0.434765   \n",
       "3       0.000149  0.000149  0.003629  0.029885  0.201745  0.009163  0.000149   \n",
       "4       0.000095  0.000095  0.270060  0.012861  0.019600  0.000095  0.000095   \n",
       "...          ...       ...       ...       ...       ...       ...       ...   \n",
       "136517  0.000108  0.000108  0.134308  0.000108  0.031809  0.822942  0.010296   \n",
       "136518  0.015348  0.000096  0.600495  0.057191  0.000096  0.000096  0.068632   \n",
       "136519  0.000090  0.006015  0.000090  0.000090  0.000090  0.417274  0.049763   \n",
       "136520  0.284387  0.000099  0.000099  0.011366  0.021472  0.030229  0.493743   \n",
       "136521  0.168279  0.000141  0.000141  0.035734  0.186052  0.000141  0.194404   \n",
       "\n",
       "        LM_Positive  LM_Negative  LM_Uncertainty    neg    neu    pos  \n",
       "0                20           20               4  0.040  0.813  0.146  \n",
       "1                53           35              13  0.021  0.800  0.179  \n",
       "2                56           29              19  0.011  0.802  0.186  \n",
       "3                28           95               6  0.027  0.832  0.141  \n",
       "4                56           61              42  0.025  0.828  0.148  \n",
       "...             ...          ...             ...    ...    ...    ...  \n",
       "136517           87           52              23  0.023  0.832  0.145  \n",
       "136518           60           60              26  0.026  0.791  0.184  \n",
       "136519           51           34              44  0.027  0.823  0.150  \n",
       "136520           35           46              15  0.021  0.824  0.154  \n",
       "136521           32           30              22  0.030  0.821  0.149  \n",
       "\n",
       "[136522 rows x 19 columns]"
      ]
     },
     "execution_count": 9,
     "metadata": {},
     "output_type": "execute_result"
    }
   ],
   "source": [
    "X"
   ]
  },
  {
   "cell_type": "code",
   "execution_count": 10,
   "metadata": {},
   "outputs": [],
   "source": [
    "from sklearn.ensemble import RandomForestClassifier\n",
    "from sklearn.model_selection import train_test_split\n",
    "from sklearn.metrics import classification_report\n",
    "from sklearn.preprocessing import StandardScaler"
   ]
  },
  {
   "cell_type": "code",
   "execution_count": 11,
   "metadata": {},
   "outputs": [],
   "source": [
    "# data spllt\n",
    "# Split data into training and testing sets\n",
    "X_train, X_test, y_train, y_test = train_test_split(X, labels, test_size=0.2, random_state=42)\n"
   ]
  },
  {
   "cell_type": "markdown",
   "metadata": {},
   "source": [
    "## Random Forest Classifier"
   ]
  },
  {
   "cell_type": "code",
   "execution_count": 12,
   "metadata": {},
   "outputs": [
    {
     "name": "stdout",
     "output_type": "stream",
     "text": [
      "              precision    recall  f1-score   support\n",
      "\n",
      "           0       0.92      0.83      0.87     12333\n",
      "           1       0.87      0.94      0.90     14972\n",
      "\n",
      "    accuracy                           0.89     27305\n",
      "   macro avg       0.90      0.89      0.89     27305\n",
      "weighted avg       0.89      0.89      0.89     27305\n",
      "\n"
     ]
    }
   ],
   "source": [
    "\n",
    "rf_classifier = RandomForestClassifier(n_estimators=100)\n",
    "\n",
    "# Fit the pipeline on the training data\n",
    "rf_classifier.fit(X_train, y_train)\n",
    "\n",
    "# Make predictions on the test data\n",
    "rf_y_pred = rf_classifier.predict(X_test)\n",
    "\n",
    "# Generate a classification report\n",
    "rf_report = classification_report(y_test, rf_y_pred)\n",
    "print(rf_report)"
   ]
  },
  {
   "cell_type": "code",
   "execution_count": 13,
   "metadata": {},
   "outputs": [
    {
     "name": "stdout",
     "output_type": "stream",
     "text": [
      "[0.12809586 0.1545447  0.25205158 0.03110456 0.0292478  0.0313846\n",
      " 0.02963014 0.02800708 0.02947115 0.03077322 0.02968503 0.03263229\n",
      " 0.03131954 0.02670054 0.02854832 0.02527822 0.02887399 0.02569272\n",
      " 0.02695868]\n"
     ]
    }
   ],
   "source": [
    "# Feature importance (for tree-based models)\n",
    "feature_importance = rf_classifier.feature_importances_\n",
    "print(feature_importance)"
   ]
  },
  {
   "cell_type": "code",
   "execution_count": 14,
   "metadata": {},
   "outputs": [
    {
     "data": {
      "text/plain": [
       "Index(['close', 'sma50_close', 'sma200_close', 'Topic_1', 'Topic_2', 'Topic_3',\n",
       "       'Topic_4', 'Topic_5', 'Topic_6', 'Topic_7', 'Topic_8', 'Topic_9',\n",
       "       'Topic_10', 'LM_Positive', 'LM_Negative', 'LM_Uncertainty', 'neg',\n",
       "       'neu', 'pos'],\n",
       "      dtype='object')"
      ]
     },
     "execution_count": 14,
     "metadata": {},
     "output_type": "execute_result"
    }
   ],
   "source": [
    "X.columns"
   ]
  },
  {
   "cell_type": "markdown",
   "metadata": {},
   "source": [
    "#### Permutation importance"
   ]
  },
  {
   "cell_type": "code",
   "execution_count": 16,
   "metadata": {},
   "outputs": [],
   "source": [
    "from sklearn.inspection import permutation_importance\n",
    "\n",
    "# Compute permutation importances\n",
    "#perm_importance = permutation_importance(rf_classifier, X, labels)\n",
    "#feature_importance__ = perm_importance.importances_mean\n",
    "#print(f'Feature Permutation Importance: {feature_importance__}')"
   ]
  },
  {
   "cell_type": "code",
   "execution_count": null,
   "metadata": {},
   "outputs": [],
   "source": [
    "'''\n",
    "feature_df = pd.DataFrame({\n",
    "    'feature_name':['close', 'sma50_close', 'sma200_close', 'Topic_1', 'Topic_2', 'Topic_3',\n",
    "                'Topic_4', 'Topic_5', 'Topic_6', 'Topic_7', 'Topic_8', 'Topic_9',\n",
    "                'Topic_10', 'LM_Positive', 'LM_Negative', 'LM_Uncertainty', 'neg',\n",
    "                'neu', 'pos'],\n",
    "    'feature_important':feature_importance,\n",
    "    'feature_permutations':feature_importance__\n",
    "})\n",
    "#feature_df.to_pickle('../data/rf_features_analysis.pkl')'''"
   ]
  },
  {
   "cell_type": "code",
   "execution_count": 6,
   "metadata": {},
   "outputs": [
    {
     "data": {
      "text/html": [
       "<div>\n",
       "<style scoped>\n",
       "    .dataframe tbody tr th:only-of-type {\n",
       "        vertical-align: middle;\n",
       "    }\n",
       "\n",
       "    .dataframe tbody tr th {\n",
       "        vertical-align: top;\n",
       "    }\n",
       "\n",
       "    .dataframe thead th {\n",
       "        text-align: right;\n",
       "    }\n",
       "</style>\n",
       "<table border=\"1\" class=\"dataframe\">\n",
       "  <thead>\n",
       "    <tr style=\"text-align: right;\">\n",
       "      <th></th>\n",
       "      <th>feature_name</th>\n",
       "      <th>feature_important</th>\n",
       "      <th>feature_permutations</th>\n",
       "    </tr>\n",
       "  </thead>\n",
       "  <tbody>\n",
       "    <tr>\n",
       "      <th>0</th>\n",
       "      <td>close</td>\n",
       "      <td>0.126966</td>\n",
       "      <td>0.352491</td>\n",
       "    </tr>\n",
       "    <tr>\n",
       "      <th>1</th>\n",
       "      <td>sma50_close</td>\n",
       "      <td>0.156690</td>\n",
       "      <td>0.432426</td>\n",
       "    </tr>\n",
       "    <tr>\n",
       "      <th>2</th>\n",
       "      <td>sma200_close</td>\n",
       "      <td>0.246872</td>\n",
       "      <td>0.389424</td>\n",
       "    </tr>\n",
       "    <tr>\n",
       "      <th>3</th>\n",
       "      <td>Topic_1</td>\n",
       "      <td>0.031526</td>\n",
       "      <td>0.001979</td>\n",
       "    </tr>\n",
       "    <tr>\n",
       "      <th>4</th>\n",
       "      <td>Topic_2</td>\n",
       "      <td>0.029851</td>\n",
       "      <td>0.001301</td>\n",
       "    </tr>\n",
       "    <tr>\n",
       "      <th>5</th>\n",
       "      <td>Topic_3</td>\n",
       "      <td>0.031380</td>\n",
       "      <td>0.000514</td>\n",
       "    </tr>\n",
       "    <tr>\n",
       "      <th>6</th>\n",
       "      <td>Topic_4</td>\n",
       "      <td>0.029644</td>\n",
       "      <td>0.001015</td>\n",
       "    </tr>\n",
       "    <tr>\n",
       "      <th>7</th>\n",
       "      <td>Topic_5</td>\n",
       "      <td>0.028334</td>\n",
       "      <td>0.000757</td>\n",
       "    </tr>\n",
       "    <tr>\n",
       "      <th>8</th>\n",
       "      <td>Topic_6</td>\n",
       "      <td>0.029825</td>\n",
       "      <td>0.000214</td>\n",
       "    </tr>\n",
       "    <tr>\n",
       "      <th>9</th>\n",
       "      <td>Topic_7</td>\n",
       "      <td>0.030499</td>\n",
       "      <td>0.000302</td>\n",
       "    </tr>\n",
       "    <tr>\n",
       "      <th>10</th>\n",
       "      <td>Topic_8</td>\n",
       "      <td>0.029928</td>\n",
       "      <td>0.000523</td>\n",
       "    </tr>\n",
       "    <tr>\n",
       "      <th>11</th>\n",
       "      <td>Topic_9</td>\n",
       "      <td>0.032794</td>\n",
       "      <td>0.006153</td>\n",
       "    </tr>\n",
       "    <tr>\n",
       "      <th>12</th>\n",
       "      <td>Topic_10</td>\n",
       "      <td>0.031501</td>\n",
       "      <td>0.000781</td>\n",
       "    </tr>\n",
       "    <tr>\n",
       "      <th>13</th>\n",
       "      <td>LM_Positive</td>\n",
       "      <td>0.026852</td>\n",
       "      <td>-0.000100</td>\n",
       "    </tr>\n",
       "    <tr>\n",
       "      <th>14</th>\n",
       "      <td>LM_Negative</td>\n",
       "      <td>0.028697</td>\n",
       "      <td>0.001726</td>\n",
       "    </tr>\n",
       "    <tr>\n",
       "      <th>15</th>\n",
       "      <td>LM_Uncertainty</td>\n",
       "      <td>0.025646</td>\n",
       "      <td>0.000229</td>\n",
       "    </tr>\n",
       "    <tr>\n",
       "      <th>16</th>\n",
       "      <td>neg</td>\n",
       "      <td>0.029154</td>\n",
       "      <td>0.018464</td>\n",
       "    </tr>\n",
       "    <tr>\n",
       "      <th>17</th>\n",
       "      <td>neu</td>\n",
       "      <td>0.026324</td>\n",
       "      <td>-0.000327</td>\n",
       "    </tr>\n",
       "    <tr>\n",
       "      <th>18</th>\n",
       "      <td>pos</td>\n",
       "      <td>0.027518</td>\n",
       "      <td>0.002153</td>\n",
       "    </tr>\n",
       "  </tbody>\n",
       "</table>\n",
       "</div>"
      ],
      "text/plain": [
       "      feature_name  feature_important  feature_permutations\n",
       "0            close           0.126966              0.352491\n",
       "1      sma50_close           0.156690              0.432426\n",
       "2     sma200_close           0.246872              0.389424\n",
       "3          Topic_1           0.031526              0.001979\n",
       "4          Topic_2           0.029851              0.001301\n",
       "5          Topic_3           0.031380              0.000514\n",
       "6          Topic_4           0.029644              0.001015\n",
       "7          Topic_5           0.028334              0.000757\n",
       "8          Topic_6           0.029825              0.000214\n",
       "9          Topic_7           0.030499              0.000302\n",
       "10         Topic_8           0.029928              0.000523\n",
       "11         Topic_9           0.032794              0.006153\n",
       "12        Topic_10           0.031501              0.000781\n",
       "13     LM_Positive           0.026852             -0.000100\n",
       "14     LM_Negative           0.028697              0.001726\n",
       "15  LM_Uncertainty           0.025646              0.000229\n",
       "16             neg           0.029154              0.018464\n",
       "17             neu           0.026324             -0.000327\n",
       "18             pos           0.027518              0.002153"
      ]
     },
     "execution_count": 6,
     "metadata": {},
     "output_type": "execute_result"
    }
   ],
   "source": [
    "import pandas as pd\n",
    "from tabulate import tabulate\n",
    "from matplotlib import pyplot as plt \n",
    "\n",
    "feature_table = pd.read_pickle('../data/rf_features_analysis.pkl')\n",
    "feature_table"
   ]
  },
  {
   "cell_type": "code",
   "execution_count": 18,
   "metadata": {},
   "outputs": [
    {
     "data": {
      "image/png": "[encoded data removed]",
      "text/plain": [
       "<Figure size 800x600 with 1 Axes>"
      ]
     },
     "metadata": {},
     "output_type": "display_data"
    }
   ],
   "source": [
    "# Convert DataFrame to a tabulated format and print\n",
    "table_tail = tabulate(feature_table, headers='keys', tablefmt='grid')\n",
    "\n",
    "\n",
    "# Create a matplotlib figure and add the tabulated text as an annotation\n",
    "fig, ax = plt.subplots(figsize=(8, 6))\n",
    "ax.text(0, 1, table_tail, va='top', fontfamily='monospace', fontsize=10, transform=ax.transAxes)\n",
    "ax.axis('off')  # Turn off axes\n",
    "\n",
    "# Save the figure as an image file (e.g., PNG)\n",
    "fig.savefig('../docs/results/feature_analysis.png', pad_inches=0.1, bbox_inches='tight', dpi=200)"
   ]
  },
  {
   "cell_type": "markdown",
   "metadata": {},
   "source": [
    "## Logsitic Regression Classifier"
   ]
  },
  {
   "cell_type": "code",
   "execution_count": 17,
   "metadata": {},
   "outputs": [
    {
     "name": "stdout",
     "output_type": "stream",
     "text": [
      "              precision    recall  f1-score   support\n",
      "\n",
      "           0       0.45      1.00      0.62     12333\n",
      "           1       0.00      0.00      0.00     14972\n",
      "\n",
      "    accuracy                           0.45     27305\n",
      "   macro avg       0.23      0.50      0.31     27305\n",
      "weighted avg       0.20      0.45      0.28     27305\n",
      "\n"
     ]
    },
    {
     "name": "stderr",
     "output_type": "stream",
     "text": [
      "c:\\Users\\jrbat\\Desktop\\Earnings\\earnings_venv\\Lib\\site-packages\\sklearn\\linear_model\\_logistic.py:460: ConvergenceWarning: lbfgs failed to converge (status=2):\n",
      "ABNORMAL_TERMINATION_IN_LNSRCH.\n",
      "\n",
      "Increase the number of iterations (max_iter) or scale the data as shown in:\n",
      "    https://scikit-learn.org/stable/modules/preprocessing.html\n",
      "Please also refer to the documentation for alternative solver options:\n",
      "    https://scikit-learn.org/stable/modules/linear_model.html#logistic-regression\n",
      "  n_iter_i = _check_optimize_result(\n",
      "c:\\Users\\jrbat\\Desktop\\Earnings\\earnings_venv\\Lib\\site-packages\\sklearn\\metrics\\_classification.py:1469: UndefinedMetricWarning: Precision and F-score are ill-defined and being set to 0.0 in labels with no predicted samples. Use `zero_division` parameter to control this behavior.\n",
      "  _warn_prf(average, modifier, msg_start, len(result))\n",
      "c:\\Users\\jrbat\\Desktop\\Earnings\\earnings_venv\\Lib\\site-packages\\sklearn\\metrics\\_classification.py:1469: UndefinedMetricWarning: Precision and F-score are ill-defined and being set to 0.0 in labels with no predicted samples. Use `zero_division` parameter to control this behavior.\n",
      "  _warn_prf(average, modifier, msg_start, len(result))\n",
      "c:\\Users\\jrbat\\Desktop\\Earnings\\earnings_venv\\Lib\\site-packages\\sklearn\\metrics\\_classification.py:1469: UndefinedMetricWarning: Precision and F-score are ill-defined and being set to 0.0 in labels with no predicted samples. Use `zero_division` parameter to control this behavior.\n",
      "  _warn_prf(average, modifier, msg_start, len(result))\n"
     ]
    }
   ],
   "source": [
    "from sklearn.linear_model import LogisticRegression\n",
    "\n",
    "# create an instance in Logistic Regression\n",
    "log_regress_classifier = LogisticRegression(max_iter=1000, random_state=42)\n",
    "\n",
    "# fit the model\n",
    "log_regress_classifier.fit(X_train, y_train)\n",
    "\n",
    "# make predictions on the test data\n",
    "log_y_pred = log_regress_classifier.predict(X_test)\n",
    "\n",
    "# print report\n",
    "log_report = classification_report(y_test, log_y_pred)\n",
    "print(log_report)"
   ]
  },
  {
   "cell_type": "markdown",
   "metadata": {},
   "source": [
    "## Gaussian Bayes"
   ]
  },
  {
   "cell_type": "code",
   "execution_count": 18,
   "metadata": {},
   "outputs": [
    {
     "name": "stdout",
     "output_type": "stream",
     "text": [
      "Classification Report:\n",
      "               precision    recall  f1-score   support\n",
      "\n",
      "           0       0.45      1.00      0.62     12333\n",
      "           1       0.67      0.00      0.00     14972\n",
      "\n",
      "    accuracy                           0.45     27305\n",
      "   macro avg       0.56      0.50      0.31     27305\n",
      "weighted avg       0.57      0.45      0.28     27305\n",
      "\n"
     ]
    }
   ],
   "source": [
    "from sklearn.naive_bayes import GaussianNB\n",
    "\n",
    "# Create and train the Multinomial Naive Bayes classifier\n",
    "gnb_classifier = GaussianNB()\n",
    "gnb_classifier.fit(X_train, y_train)\n",
    "\n",
    "# Make predictions\n",
    "gnb_y_pred = gnb_classifier.predict(X_test)\n",
    "\n",
    "gnb_report = classification_report(y_test, gnb_y_pred)\n",
    "\n",
    "print(\"Classification Report:\\n\", gnb_report)"
   ]
  },
  {
   "cell_type": "markdown",
   "metadata": {},
   "source": [
    "## Support Vector"
   ]
  },
  {
   "cell_type": "code",
   "execution_count": 19,
   "metadata": {},
   "outputs": [
    {
     "name": "stdout",
     "output_type": "stream",
     "text": [
      "SVM Accuracy:               precision    recall  f1-score   support\n",
      "\n",
      "           0       0.99      1.00      1.00     12333\n",
      "           1       1.00      1.00      1.00     14972\n",
      "\n",
      "    accuracy                           1.00     27305\n",
      "   macro avg       1.00      1.00      1.00     27305\n",
      "weighted avg       1.00      1.00      1.00     27305\n",
      "\n"
     ]
    }
   ],
   "source": [
    "# Import necessary libraries\n",
    "from sklearn.svm import SVC\n",
    "\n",
    "# Support Vector Machine (SVM)\n",
    "svm_classifier = SVC(kernel='linear', C=1.0)\n",
    "svm_classifier.fit(X_train, y_train)\n",
    "svm_predictions = svm_classifier.predict(X_test)\n",
    "svm_report = classification_report(y_test, svm_predictions)\n",
    "\n",
    "# Print accuracy for each classifier\n",
    "print(f\"SVM Accuracy: {svm_report}\")"
   ]
  },
  {
   "cell_type": "markdown",
   "metadata": {},
   "source": [
    "## Gradient Boosting Classifier"
   ]
  },
  {
   "cell_type": "code",
   "execution_count": 21,
   "metadata": {},
   "outputs": [],
   "source": [
    "from sklearn.ensemble import GradientBoostingClassifier\n",
    "\n",
    "# Gradient Boosting\n",
    "gb_classifier = GradientBoostingClassifier(n_estimators=100, learning_rate=0.1, max_depth=3, random_state=42)\n",
    "gb_classifier.fit(X_train, y_train)\n",
    "gb_predictions = gb_classifier.predict(X_test)\n",
    "gb_accuracy = classification_report(y_test, gb_predictions)"
   ]
  },
  {
   "cell_type": "code",
   "execution_count": 22,
   "metadata": {},
   "outputs": [
    {
     "name": "stdout",
     "output_type": "stream",
     "text": [
      "              precision    recall  f1-score   support\n",
      "\n",
      "           0       0.93      0.81      0.86     12333\n",
      "           1       0.86      0.95      0.90     14972\n",
      "\n",
      "    accuracy                           0.88     27305\n",
      "   macro avg       0.89      0.88      0.88     27305\n",
      "weighted avg       0.89      0.88      0.88     27305\n",
      "\n"
     ]
    }
   ],
   "source": [
    "print(gb_accuracy)"
   ]
  },
  {
   "cell_type": "markdown",
   "metadata": {},
   "source": [
    "## K-Neighbor Classifier  \n",
    "- keeps raising error message "
   ]
  },
  {
   "cell_type": "markdown",
   "metadata": {},
   "source": [
    "## Neural Network  "
   ]
  },
  {
   "cell_type": "code",
   "execution_count": 23,
   "metadata": {},
   "outputs": [
    {
     "name": "stdout",
     "output_type": "stream",
     "text": [
      "854/854 [==============================] - 1s 533us/step\n",
      "Neural Network Classification Report:\n",
      "              precision    recall  f1-score   support\n",
      "\n",
      "           0       0.96      0.98      0.97     12333\n",
      "           1       0.99      0.97      0.98     14972\n",
      "\n",
      "    accuracy                           0.98     27305\n",
      "   macro avg       0.98      0.98      0.98     27305\n",
      "weighted avg       0.98      0.98      0.98     27305\n",
      "\n"
     ]
    }
   ],
   "source": [
    "from sklearn.neural_network import MLPClassifier\n",
    "\n",
    "# Neural Networks (using TensorFlow/Keras)\n",
    "from tensorflow import keras\n",
    "from tensorflow.keras import layers\n",
    "\n",
    "# Define the neural network model\n",
    "nn_model = keras.Sequential([\n",
    "    layers.Input(shape=X_train.shape[1]),\n",
    "    layers.Dense(64, activation='relu'),\n",
    "    layers.Dense(32, activation='relu'),\n",
    "    layers.Dense(1, activation='sigmoid')\n",
    "])\n",
    "\n",
    "# Compile the model\n",
    "nn_model.compile(optimizer='adam', loss='binary_crossentropy')\n",
    "\n",
    "# Train the model\n",
    "nn_model.fit(X_train, y_train, epochs=10, batch_size=32, verbose=0)\n",
    "\n",
    "# Evaluate the model\n",
    "nn_predictions = nn_model.predict(X_test)\n",
    "nn_predictions = (nn_predictions > 0.5).astype(int)  # Convert probabilities to binary labels (e.g., 0 or 1)\n",
    "\n",
    "# Calculate and print the classification report\n",
    "nn_classification_report = classification_report(y_test, nn_predictions)\n",
    "print(\"Neural Network Classification Report:\")\n",
    "print(nn_classification_report)\n"
   ]
  },
  {
   "cell_type": "code",
   "execution_count": null,
   "metadata": {},
   "outputs": [
    {
     "name": "stdout",
     "output_type": "stream",
     "text": [
      "854/854 [==============================] - 0s 544us/step\n",
      "Neural Network Classification Report: 0.4\n",
      "              precision    recall  f1-score   support\n",
      "\n",
      "           0       0.45      1.00      0.62     12333\n",
      "           1       0.00      0.00      0.00     14972\n",
      "\n",
      "    accuracy                           0.45     27305\n",
      "   macro avg       0.23      0.50      0.31     27305\n",
      "weighted avg       0.20      0.45      0.28     27305\n",
      " \n",
      "\n",
      "\n",
      "164/854 [====>.........................] - ETA: 0s"
     ]
    },
    {
     "name": "stderr",
     "output_type": "stream",
     "text": [
      "c:\\Users\\jrbat\\Desktop\\Earnings\\earnings_venv\\Lib\\site-packages\\sklearn\\metrics\\_classification.py:1469: UndefinedMetricWarning: Precision and F-score are ill-defined and being set to 0.0 in labels with no predicted samples. Use `zero_division` parameter to control this behavior.\n",
      "  _warn_prf(average, modifier, msg_start, len(result))\n",
      "c:\\Users\\jrbat\\Desktop\\Earnings\\earnings_venv\\Lib\\site-packages\\sklearn\\metrics\\_classification.py:1469: UndefinedMetricWarning: Precision and F-score are ill-defined and being set to 0.0 in labels with no predicted samples. Use `zero_division` parameter to control this behavior.\n",
      "  _warn_prf(average, modifier, msg_start, len(result))\n",
      "c:\\Users\\jrbat\\Desktop\\Earnings\\earnings_venv\\Lib\\site-packages\\sklearn\\metrics\\_classification.py:1469: UndefinedMetricWarning: Precision and F-score are ill-defined and being set to 0.0 in labels with no predicted samples. Use `zero_division` parameter to control this behavior.\n",
      "  _warn_prf(average, modifier, msg_start, len(result))\n"
     ]
    },
    {
     "name": "stdout",
     "output_type": "stream",
     "text": [
      "854/854 [==============================] - 0s 530us/step\n",
      "Neural Network Classification Report: 0.5\n",
      "              precision    recall  f1-score   support\n",
      "\n",
      "           0       0.45      1.00      0.62     12333\n",
      "           1       0.00      0.00      0.00     14972\n",
      "\n",
      "    accuracy                           0.45     27305\n",
      "   macro avg       0.23      0.50      0.31     27305\n",
      "weighted avg       0.20      0.45      0.28     27305\n",
      " \n",
      "\n",
      "\n",
      " 84/854 [=>............................] - ETA: 0s "
     ]
    },
    {
     "name": "stderr",
     "output_type": "stream",
     "text": [
      "c:\\Users\\jrbat\\Desktop\\Earnings\\earnings_venv\\Lib\\site-packages\\sklearn\\metrics\\_classification.py:1469: UndefinedMetricWarning: Precision and F-score are ill-defined and being set to 0.0 in labels with no predicted samples. Use `zero_division` parameter to control this behavior.\n",
      "  _warn_prf(average, modifier, msg_start, len(result))\n",
      "c:\\Users\\jrbat\\Desktop\\Earnings\\earnings_venv\\Lib\\site-packages\\sklearn\\metrics\\_classification.py:1469: UndefinedMetricWarning: Precision and F-score are ill-defined and being set to 0.0 in labels with no predicted samples. Use `zero_division` parameter to control this behavior.\n",
      "  _warn_prf(average, modifier, msg_start, len(result))\n",
      "c:\\Users\\jrbat\\Desktop\\Earnings\\earnings_venv\\Lib\\site-packages\\sklearn\\metrics\\_classification.py:1469: UndefinedMetricWarning: Precision and F-score are ill-defined and being set to 0.0 in labels with no predicted samples. Use `zero_division` parameter to control this behavior.\n",
      "  _warn_prf(average, modifier, msg_start, len(result))\n"
     ]
    },
    {
     "name": "stdout",
     "output_type": "stream",
     "text": [
      "854/854 [==============================] - 0s 545us/step\n",
      "Neural Network Classification Report: 0.6\n",
      "              precision    recall  f1-score   support\n",
      "\n",
      "           0       0.45      1.00      0.62     12333\n",
      "           1       0.00      0.00      0.00     14972\n",
      "\n",
      "    accuracy                           0.45     27305\n",
      "   macro avg       0.23      0.50      0.31     27305\n",
      "weighted avg       0.20      0.45      0.28     27305\n",
      " \n",
      "\n",
      "\n"
     ]
    },
    {
     "name": "stderr",
     "output_type": "stream",
     "text": [
      "c:\\Users\\jrbat\\Desktop\\Earnings\\earnings_venv\\Lib\\site-packages\\sklearn\\metrics\\_classification.py:1469: UndefinedMetricWarning: Precision and F-score are ill-defined and being set to 0.0 in labels with no predicted samples. Use `zero_division` parameter to control this behavior.\n",
      "  _warn_prf(average, modifier, msg_start, len(result))\n",
      "c:\\Users\\jrbat\\Desktop\\Earnings\\earnings_venv\\Lib\\site-packages\\sklearn\\metrics\\_classification.py:1469: UndefinedMetricWarning: Precision and F-score are ill-defined and being set to 0.0 in labels with no predicted samples. Use `zero_division` parameter to control this behavior.\n",
      "  _warn_prf(average, modifier, msg_start, len(result))\n",
      "c:\\Users\\jrbat\\Desktop\\Earnings\\earnings_venv\\Lib\\site-packages\\sklearn\\metrics\\_classification.py:1469: UndefinedMetricWarning: Precision and F-score are ill-defined and being set to 0.0 in labels with no predicted samples. Use `zero_division` parameter to control this behavior.\n",
      "  _warn_prf(average, modifier, msg_start, len(result))\n"
     ]
    }
   ],
   "source": [
    "for each_threshold in [.4,.5,.6]:\n",
    "    # Evaluate the model\n",
    "    nn_predictions = nn_model.predict(X_test)\n",
    "    nn_predictions = (nn_predictions > 0.5).astype(int)  # Convert probabilities to binary labels (e.g., 0 or 1)\n",
    "\n",
    "    # Calculate and print the classification report\n",
    "    nn_classification_report = classification_report(y_test, nn_predictions)\n",
    "    print(f\"Neural Network Classification Report: {each_threshold}\")\n",
    "    print(nn_classification_report, '\\n\\n')"
   ]
  },
  {
   "cell_type": "code",
   "execution_count": null,
   "metadata": {},
   "outputs": [
    {
     "data": {
      "text/plain": [
       "target\n",
       "1    0.545026\n",
       "0    0.454974\n",
       "Name: count, dtype: float64"
      ]
     },
     "execution_count": 56,
     "metadata": {},
     "output_type": "execute_result"
    }
   ],
   "source": [
    "aggregate.target.value_counts()/aggregate.shape[0]"
   ]
  },
  {
   "cell_type": "markdown",
   "metadata": {},
   "source": [
    "## Addressing imbalance  \n",
    "\n",
    "- Real-World Distribution: If the class imbalance in your dataset accurately reflects the real-world distribution of classes, it might be best not to balance the classes. Changing the class distribution could introduce bias into your model's predictions.  \n",
    "\n",
    "- Cost-Sensitive Learning: In some cases, you may want to emphasize the minority class because it's more critical or costly to misclassify. In such situations, you may choose not to balance the classes but rather use cost-sensitive learning techniques."
   ]
  },
  {
   "cell_type": "markdown",
   "metadata": {},
   "source": [
    "It's not uncommon for certain features to have a more significant impact on the predictions or trends in your data. In your case, the \"close price,\" \"50-day average,\" and \"200-day average\" features are financial indicators that often play a crucial role in financial and stock market analysis. It's not surprising that these features are among the most important in your dataset, as they directly reflect stock price movements and trends."
   ]
  }
 ],
 "metadata": {
  "kernelspec": {
   "display_name": "earnings_venv",
   "language": "python",
   "name": "python3"
  },
  "language_info": {
   "codemirror_mode": {
    "name": "ipython",
    "version": 3
   },
   "file_extension": ".py",
   "mimetype": "text/x-python",
   "name": "python",
   "nbconvert_exporter": "python",
   "pygments_lexer": "ipython3",
   "version": "3.11.5"
  },
  "orig_nbformat": 4
 },
 "nbformat": 4,
 "nbformat_minor": 2
}
